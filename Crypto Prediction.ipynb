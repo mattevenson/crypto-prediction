{
 "cells": [
  {
   "cell_type": "code",
   "execution_count": null,
   "metadata": {},
   "outputs": [],
   "source": [
    "import requests\n",
    "import math\n",
    "from datetime import datetime, timezone, timedelta\n",
    "import pandas as pd\n",
    "from pandas.io.json import json_normalize\n",
    "from pytrends.request import TrendReq\n",
    "import matplotlib.pyplot as plt\n",
    "import numpy as np\n",
    "from finta import TA"
   ]
  },
  {
   "cell_type": "code",
   "execution_count": null,
   "metadata": {},
   "outputs": [],
   "source": [
    "year_start = 2017\n",
    "month_start = 1\n",
    "day_start = 1\n",
    "hour_start = 0\n",
    "\n",
    "year_end = 2018\n",
    "month_end = 1\n",
    "day_end = 1\n",
    "hour_end = 0\n",
    "\n",
    "crypto = 'ethereum'\n",
    "fsym = 'ETH'\n",
    "tsym = 'USD'"
   ]
  },
  {
   "cell_type": "code",
   "execution_count": null,
   "metadata": {},
   "outputs": [],
   "source": [
    "prices_df = pd.DataFrame()\n",
    "\n",
    "start_date = datetime(year_start, month_start, day_start, hour_start, tzinfo=timezone.utc)\n",
    "end_date = datetime(year_end, month_end, day_end, hour_end, tzinfo=timezone.utc)\n",
    "date_iterator = start_date - timedelta(hours=1)\n",
    "\n",
    "while date_iterator < end_date:\n",
    "    delta = timedelta(seconds=min((end_date - date_iterator).total_seconds(), 2000 * 3600))\n",
    "    date_iterator += delta\n",
    "    params={\n",
    "        'fsym': fsym,\n",
    "        'tsym': tsym,\n",
    "        'limit': delta.total_seconds() // 3600 - 1,\n",
    "        'toTs': date_iterator.timestamp()\n",
    "    }\n",
    "    r = requests.get('https://min-api.cryptocompare.com/data/histohour', params=params)\n",
    "    prices_df = pd.concat([prices_df, json_normalize(r.json(), record_path=\"Data\")])\n",
    "\n",
    "prices_df['time'] = pd.to_datetime(prices_df['time'], unit='s')\n",
    "prices_df.set_index('time', inplace=True)\n",
    "prices_df = prices_df.tz_localize('UTC')\n",
    "prices_df.rename(columns={'volumefrom': 'volume'}, inplace=True)"
   ]
  },
  {
   "cell_type": "code",
   "execution_count": null,
   "metadata": {},
   "outputs": [],
   "source": [
    "pytrends = TrendReq()\n",
    "\n",
    "trends_df = pytrends.get_historical_interest([crypto],\n",
    "                                             year_start=year_start,\n",
    "                                             month_start=month_start,\n",
    "                                             day_start=day_start,\n",
    "                                             hour_start=hour_start,\n",
    "                                             year_end=year_end,\n",
    "                                             month_end=month_end,\n",
    "                                             day_end=day_end+7,\n",
    "                                             hour_end=hour_end)\n",
    "\n",
    "trends_df.rename(columns={crypto: 'searches'}, inplace=True)\n",
    "trends_df.drop(columns='isPartial', inplace=True)\n",
    "\n",
    "trends_df = trends_df.tz_localize('UTC')\n",
    "\n",
    "delta = timedelta(days=7)\n",
    "date_iterator = start_date + delta\n",
    "\n",
    "while date_iterator < end_date:\n",
    "    overlap = trends_df[trends_df.index == date_iterator]\n",
    "    ratio = overlap.iloc[0]['searches'] / overlap.iloc[-1]['searches']\n",
    "    trends_df.loc[trends_df.index < date_iterator, 'searches'] /= ratio\n",
    "    date_iterator += delta\n",
    "    \n",
    "trends_df = trends_df[~trends_df.index.duplicated(keep='last')]\n",
    "trends_df['searches'] *= 100 / np.max(trends_df['searches'])"
   ]
  },
  {
   "cell_type": "code",
   "execution_count": null,
   "metadata": {},
   "outputs": [],
   "source": [
    "df = prices_df.join(trends_df, how='inner')"
   ]
  },
  {
   "cell_type": "code",
   "execution_count": null,
   "metadata": {},
   "outputs": [],
   "source": [
    "plt.plot(df.index.values, df['volume'])"
   ]
  },
  {
   "cell_type": "code",
   "execution_count": null,
   "metadata": {},
   "outputs": [],
   "source": [
    "df = df.join(TA.MACD(df).rename(columns={'SIGNAL': 'MACD_SIGNAL'}), how='inner')\n",
    "df = df.join(TA.BBANDS(df), how='inner')\n",
    "df['CCI'] = TA.CCI(df)\n",
    "df['ATR'] = TA.ATR(df)"
   ]
  },
  {
   "cell_type": "code",
   "execution_count": null,
   "metadata": {},
   "outputs": [],
   "source": [
    "TA.ATR(df)"
   ]
  },
  {
   "cell_type": "code",
   "execution_count": null,
   "metadata": {},
   "outputs": [],
   "source": []
  }
 ],
 "metadata": {
  "kernelspec": {
   "display_name": "Python 3",
   "language": "python",
   "name": "python3"
  },
  "language_info": {
   "codemirror_mode": {
    "name": "ipython",
    "version": 3
   },
   "file_extension": ".py",
   "mimetype": "text/x-python",
   "name": "python",
   "nbconvert_exporter": "python",
   "pygments_lexer": "ipython3",
   "version": "3.6.6"
  }
 },
 "nbformat": 4,
 "nbformat_minor": 2
}
